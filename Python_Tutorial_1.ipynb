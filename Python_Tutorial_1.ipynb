{
 "cells": [
  {
   "cell_type": "markdown",
   "metadata": {},
   "source": [
    "### Python Tutorial"
   ]
  },
  {
   "cell_type": "code",
   "execution_count": 3,
   "metadata": {},
   "outputs": [
    {
     "name": "stdout",
     "output_type": "stream",
     "text": [
      "My name is Ram\n",
      "and I am awesome\n",
      "Harry Potter and J K Rowling\n",
      "True\n",
      "12\n",
      "H\n"
     ]
    }
   ],
   "source": [
    "# Variable addressing and printing a sentence in the next line\n",
    "\n",
    "character_name = \"Ram\"\n",
    "\n",
    "print (\"My name is \"+ character_name +\"\\nand I am awesome\")\n",
    "\n",
    "# Concatenation\n",
    "\n",
    "phrase = \"Harry Potter\"\n",
    "print(phrase+\" and J K Rowling\")\n",
    "\n",
    "## Converting to upper case\n",
    "\n",
    "print(phrase.upper().isupper())\n",
    "\n",
    "# Length of the string\n",
    "\n",
    "print(len(phrase))\n",
    "\n",
    "# Print a particular letter\n",
    "# Indexing in python starts with zero\n",
    "\n",
    "print(phrase[0])"
   ]
  },
  {
   "cell_type": "code",
   "execution_count": 4,
   "metadata": {},
   "outputs": [
    {
     "name": "stdout",
     "output_type": "stream",
     "text": [
      "6\n"
     ]
    }
   ],
   "source": [
    "## To know where the index is starting from\n",
    "\n",
    "print(phrase.index(\"Pott\"))"
   ]
  },
  {
   "cell_type": "code",
   "execution_count": 5,
   "metadata": {},
   "outputs": [
    {
     "name": "stdout",
     "output_type": "stream",
     "text": [
      "Sorry Potter\n"
     ]
    }
   ],
   "source": [
    "# To replace a letter\n",
    "\n",
    "print(phrase.replace(\"Harry\",\"Sorry\"))"
   ]
  },
  {
   "cell_type": "code",
   "execution_count": 6,
   "metadata": {},
   "outputs": [
    {
     "name": "stdout",
     "output_type": "stream",
     "text": [
      "7.56\n"
     ]
    }
   ],
   "source": [
    "# Adressing numbers \n",
    "\n",
    "print(3.0+4.56)"
   ]
  },
  {
   "cell_type": "code",
   "execution_count": 7,
   "metadata": {},
   "outputs": [
    {
     "name": "stdout",
     "output_type": "stream",
     "text": [
      "5\n"
     ]
    }
   ],
   "source": [
    "# Convert number to string \n",
    "number = 5\n",
    "print(str(number))"
   ]
  },
  {
   "cell_type": "code",
   "execution_count": 10,
   "metadata": {},
   "outputs": [
    {
     "name": "stdout",
     "output_type": "stream",
     "text": [
      "5 is my favourite number\n"
     ]
    }
   ],
   "source": [
    "# Concatenating \n",
    "print(str(number)+\" is my favourite number\")"
   ]
  },
  {
   "cell_type": "code",
   "execution_count": 21,
   "metadata": {
    "collapsed": true
   },
   "outputs": [],
   "source": [
    "# importing math library\n",
    "from math import *"
   ]
  },
  {
   "cell_type": "code",
   "execution_count": 22,
   "metadata": {},
   "outputs": [
    {
     "name": "stdout",
     "output_type": "stream",
     "text": [
      "2.16794833886788\n"
     ]
    }
   ],
   "source": [
    "# Taking sqaure root\n",
    "print(sqrt(4.7))"
   ]
  },
  {
   "cell_type": "code",
   "execution_count": 23,
   "metadata": {},
   "outputs": [
    {
     "name": "stdout",
     "output_type": "stream",
     "text": [
      "4\n"
     ]
    }
   ],
   "source": [
    "# Rouding off number to its maximum\n",
    "print(ceil(3.4))"
   ]
  },
  {
   "cell_type": "code",
   "execution_count": 24,
   "metadata": {},
   "outputs": [
    {
     "name": "stdout",
     "output_type": "stream",
     "text": [
      "3\n"
     ]
    }
   ],
   "source": [
    "# Rounding of number to its minimum\n",
    "print(floor(3.4))"
   ]
  }
 ],
 "metadata": {
  "kernelspec": {
   "display_name": "Python 3",
   "language": "python",
   "name": "python3"
  },
  "language_info": {
   "codemirror_mode": {
    "name": "ipython",
    "version": 3
   },
   "file_extension": ".py",
   "mimetype": "text/x-python",
   "name": "python",
   "nbconvert_exporter": "python",
   "pygments_lexer": "ipython3",
   "version": "3.6.5"
  }
 },
 "nbformat": 4,
 "nbformat_minor": 2
}
